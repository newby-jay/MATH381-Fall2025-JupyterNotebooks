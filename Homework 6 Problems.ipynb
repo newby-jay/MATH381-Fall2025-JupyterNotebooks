{
 "cells": [
  {
   "cell_type": "code",
   "execution_count": null,
   "metadata": {
    "id": "gf2TE3_LDgze"
   },
   "outputs": [],
   "source": [
    "%pylab inline\n",
    "%config InlineBackend.figure_format = 'retina'\n",
    "from ipywidgets import interact"
   ]
  },
  {
   "cell_type": "markdown",
   "metadata": {
    "id": "2nSnPyunDgzh"
   },
   "source": [
    "Turn in an image (e.g., screenshot) or PDF copy of any code that is part of your answer. Make sure all images and PDF pages are properly rotated. Make sure that all pages are clearly visible. \n",
    "\n",
    "Tips: Use the document scanner function on your smart phone to take better page \"scans\" using your camera. Make sure your screen is not shifted toward warmer colours (some devices filter blue light at night) giving it a dim and orange appearance. "
   ]
  },
  {
   "cell_type": "markdown",
   "metadata": {
    "id": "l-O2BNiVDgzi"
   },
   "source": [
    "# Q1\n",
    "\n",
    "## A\n",
    "Derive a method for computing the determinant of a matrix $A\\in \\mathbb{R}^{n\\times n}$ using Gaussian elimination with partial pivoting, which is given by $PA = LU$ for a permutation matrix $P$. **Hint: use the fact that a permutation matrix is an orthogonal matrix.**\n",
    "\n",
    "## B\n",
    "Assume that the LU decomposition has already been computed, and assume that $\\sigma = \\text{det}(P)$ is known during the process of computing the LU decomposition. Show that the method for computing the determinant requires $n$ floating point operations."
   ]
  },
  {
   "cell_type": "markdown",
   "metadata": {
    "id": "4z9wHtW8Dgzj"
   },
   "source": [
    "# Q2\n",
    "Let $b + \\delta b$ be a perturbation of the vector $b\\neq 0$ and let $x$ and $\\delta x$ be such that $Ax = b$ and $A(x + \\delta x) = b + \\delta b$, where $A$ is a given nonsingular matrix. Show that \n",
    "$$\n",
    "\\frac{\\Vert \\delta x \\Vert }{\\Vert x \\Vert } \\leq \\kappa(A) \\frac{\\Vert \\delta b \\Vert }{\\Vert b \\Vert }.\n",
    "$$\n"
   ]
  },
  {
   "cell_type": "markdown",
   "metadata": {
    "id": "cWralAJxDgzj"
   },
   "source": [
    "# Q3\n",
    "The book states without proof that if $\\Vert \\delta A \\Vert < \\frac{1}{\\Vert A^{-1}\\Vert}$ then the bound on the relative error can be written as\n",
    "$$ \n",
    " \\frac{\\Vert x - \\hat{x} \\Vert}{\\Vert x \\Vert} \\leq \\frac{\\kappa(A)}{1 - \\kappa(A)\\frac{\\Vert \\delta A\\Vert}{\\Vert A\\Vert}} \n",
    " \\left(\\frac{\\Vert \\delta b \\Vert}{\\Vert b\\Vert} + \\frac{\\Vert\\delta A \\Vert}{\\Vert A\\Vert} \\right). \n",
    "$$\n",
    "\n",
    "In what follows, let $A$, $B$, and $\\delta A$ be real $n\\times n$ matrices. \n",
    "\n",
    "We saw an incomplete proof in lecture that assumed $A + \\delta A$ is nonsingular. In the following, you will show that if $\\Vert \\delta A \\Vert < \\frac{1}{\\Vert A^{-1}\\Vert}$ then $A + \\delta A$ is nonsingular.\n",
    "\n",
    "## A\n",
    "Show that if the spectral radius $\\rho(A) < 1$ then the matrix $A - I$ is nonsingular. **Hint: use the definition of the spectral radius and the characteristic equation, $\\det(A-\\lambda I) = 0$, for the eigenvalues of $A$.**\n",
    "\n",
    "## B\n",
    "Show that if $A$ is nonsingular and $\\Vert A - B\\Vert  < \\frac{1}{\\Vert A^{-1} \\Vert}$ then $B$ is nonsingular. **Hint: use $B = A[I - A^{-1}(A - B)]$ and part A**\n",
    "\n",
    "## C\n",
    "Show that if $A$ is nonsingular and $\\Vert \\delta A\\Vert  < \\frac{1}{\\Vert A^{-1} \\Vert}$, then $A + \\delta A$ is nonsingular."
   ]
  },
  {
   "cell_type": "markdown",
   "metadata": {
    "id": "eiEBnovRDgzk"
   },
   "source": [
    "# Q4\n",
    "Tridiagonal matrices appear often. Due to their simple structure, it is possible to significantly speed up the computation of the LU decomposition.\n",
    "\n",
    "## A\n",
    "Implement Gaussian elimination for computing $A = LU$ of the form\n",
    "\\begin{equation}\n",
    "\\begin{bmatrix}\n",
    "a_1 & c_1 & & & & \\\\\n",
    "b_2 & a_2 & c_2& & & \\\\\n",
    " & b_3& a_3& c_3& & \\\\\n",
    " & &\\ddots & \\ddots & \\ddots & \\\\\n",
    " & & & \\ddots & \\ddots& c_{n-1}\\\\\n",
    " & & & &b_n & a_n\n",
    "\\end{bmatrix} =\n",
    "\\begin{bmatrix}\n",
    "1 & & & & & \\\\\n",
    "l_2 & 1& & & & \\\\\n",
    " & l_3 & 1& & & \\\\\n",
    " & & \\ddots & \\ddots & & \\\\\n",
    " & & & \\ddots& \\ddots& \\\\\n",
    " & & & & l_n & 1\n",
    "\\end{bmatrix}\n",
    "\\begin{bmatrix}\n",
    " u_1& c_1& & & & \\\\\n",
    " & u_2& c_2 & & & \\\\\n",
    " & & u_3& c_3 & & \\\\\n",
    " & & & \\ddots& \\ddots& \\\\\n",
    " & & & & \\ddots& c_{n-1}\\\\\n",
    " & & & & & u_n\n",
    "\\end{bmatrix}\n",
    "\\end{equation}\n",
    "Your function should take three input arguments: the vectors `a`, `b`, and `c` containing the diagonals of the matrix $A$. It should return two vectors `l` and `u` containing the elements from the above $LU$ decomposition (ie the vectors $l$ and $u$ have entries $l_i$ and $u_i$).\n",
    "\n",
    "## B\n",
    "Use your function from part A to compute the LU decomposition of \n",
    "$$ \n",
    "A = \n",
    "\\begin{bmatrix}\n",
    "1 & -\\frac{1}{2} & & & & \\\\\n",
    "-\\frac{2}{2} & 2& -\\frac{2}{2}& & & \\\\\n",
    " & -\\frac{3}{2}& 3& -\\frac{3}{2}& & \\\\\n",
    " & & \\ddots & \\ddots& \\ddots& \\\\\n",
    " & & & \\ddots& \\ddots& -\\frac{10-1}{2} \\\\\n",
    " & & & & -\\frac{10}{2}& 10\n",
    "\\end{bmatrix}.\n",
    "$$\n",
    "Include a print out of the elements of `l` and `u` rounded to three decimal places.\n",
    "\n",
    "\n",
    "## C\n",
    "Determine the total number of floating point operations (i.e., the combined number of additions, subtractions, multiplications, and divisions) required for computing the LU decomposition of an $n\\times n$ matrix with your method.\n"
   ]
  },
  {
   "cell_type": "code",
   "execution_count": null,
   "metadata": {
    "id": "ttcBAgMhDgzm"
   },
   "outputs": [],
   "source": []
  },
  {
   "cell_type": "code",
   "execution_count": null,
   "metadata": {},
   "outputs": [],
   "source": []
  }
 ],
 "metadata": {
  "colab": {
   "name": "Homework 7 Problems.ipynb",
   "provenance": []
  },
  "kernelspec": {
   "display_name": "Python 3",
   "language": "python",
   "name": "python3"
  },
  "language_info": {
   "codemirror_mode": {
    "name": "ipython",
    "version": 3
   },
   "file_extension": ".py",
   "mimetype": "text/x-python",
   "name": "python",
   "nbconvert_exporter": "python",
   "pygments_lexer": "ipython3",
   "version": "3.7.11"
  }
 },
 "nbformat": 4,
 "nbformat_minor": 1
}
