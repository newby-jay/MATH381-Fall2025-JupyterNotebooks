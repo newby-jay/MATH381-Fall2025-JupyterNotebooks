{
 "cells": [
  {
   "cell_type": "code",
   "execution_count": 1,
   "metadata": {},
   "outputs": [
    {
     "name": "stdout",
     "output_type": "stream",
     "text": [
      "Populating the interactive namespace from numpy and matplotlib\n"
     ]
    }
   ],
   "source": [
    "%pylab inline\n",
    "%config InlineBackend.figure_format = 'retina'\n",
    "from ipywidgets import interact"
   ]
  },
  {
   "cell_type": "markdown",
   "metadata": {},
   "source": [
    "# Example: Stability of Householder Triangularization\n",
    "We want to perform an experiment to study the accuracy of the Householder QR algorithm. This will proceed in several steps.\n",
    "\n",
    "## Step 1\n",
    "We are going to construct a matrix $A$ where we known $Q$ and $R$ ahead of time (These will be close to the exact $Q$ and $R$ up to a little rounding error). \n",
    "\n",
    "## Step 2\n",
    "We will then use the Householder QR algorithm to compute $Q_2$ and $R_2$. \n",
    "\n",
    "## Step 3\n",
    "We will compute the error between $Q$ and our computed $Q_2$ from the Householder QR algorithm. We will do the same with $R$ and $R_2$. \n",
    "\n",
    "## Step 4\n",
    "To test the **stability** of the algorithm, we will measure the error between the original $A$ and the computed $A_2 = Q_2R_2$."
   ]
  },
  {
   "cell_type": "code",
   "execution_count": 2,
   "metadata": {},
   "outputs": [],
   "source": [
    "## Step 1\n",
    "\n",
    "n = 50\n",
    "\n",
    "R = normal(0, 1, (n, n)) ## an nxn array of normal random variables (mean zero and variance one)\n",
    "## We use loop to set the entries of R below the diagonal to zero\n",
    "for i in arange(n):\n",
    "    for j in arange(i):\n",
    "        R[i, j] = 0\n",
    "# We could replace the above with one line of code\n",
    "# R = triu(normal(0, 1, (n, n))\n",
    "\n",
    "\n",
    "## We need a way to construct a random orthogonal matrix, it needs to be orthogonal, and \n",
    "## we know that the SVD algorithm generates such a matrix\n",
    "## (note that we only need the first output, so we discard the second 2 outputs)\n",
    "Q, _, _ = svd(normal(0, 1, (n, n))) ## a random orthogonal matrix \n",
    "\n",
    "A = Q@R ## Our matrix A"
   ]
  },
  {
   "cell_type": "code",
   "execution_count": 3,
   "metadata": {},
   "outputs": [],
   "source": [
    "## Step 2\n",
    "\n",
    "Q2, R2 = qr(A)\n",
    "\n",
    "## We need to match up the sign of the columns of Q with Q2 (and rows of R with R2)\n",
    "s = sign(diag(R))*sign(diag(R2)) ## if the signs are different: -1, else: 1\n",
    "Q2 = Q2*s[None, :] ## see the Python notebook on Broadcasting (Week 6)\n",
    "R2 = R2*s[:, None]"
   ]
  },
  {
   "cell_type": "code",
   "execution_count": 4,
   "metadata": {},
   "outputs": [
    {
     "name": "stdout",
     "output_type": "stream",
     "text": [
      "0.14780504976994568\n",
      "0.03168217093545392\n"
     ]
    }
   ],
   "source": [
    "## Step 3\n",
    "print(norm(Q - Q2, 2)) ## why have we not normalized with norm(Q, 2)?\n",
    "print(norm(R - R2, 2)/norm(R, 2))"
   ]
  },
  {
   "cell_type": "code",
   "execution_count": 5,
   "metadata": {},
   "outputs": [
    {
     "name": "stdout",
     "output_type": "stream",
     "text": [
      "6.706892958732318e-16\n"
     ]
    }
   ],
   "source": [
    "## Step 4\n",
    "A2 = Q2@R2\n",
    "print(norm(A - A2, 2)/norm(A, 2))"
   ]
  },
  {
   "cell_type": "markdown",
   "metadata": {},
   "source": [
    "## What happened?\n",
    "Even though we have relatively large differences $Q - Q_2$ and $R - R_2$, somehow the product $A_2 = Q_2R_2$ is very close to $A$. **There must be some miraculous cancelation of error when we mutlipy $Q_2R_2$.**\n",
    "\n",
    "Let us try another experiment to emphasize this. We will generate two new matrices $Q_3$ and $R_3$ by adding a constant perturbation to $Q$ and $R$, that is, by a constant factor of $10^{-4}$ to simulate, roughly, the error we see between $Q$ and $Q_2$ and between $R$ and $R_2$. We will then look at the error between $A$ and the product $Q_3R_3$.\n",
    "\n",
    "We expect to see the error between $A$ and $A_3$ to be around the size of the perturbation to $Q$ and $R$, i.e., $O(10^{-4})$."
   ]
  },
  {
   "cell_type": "code",
   "execution_count": 6,
   "metadata": {},
   "outputs": [
    {
     "name": "stdout",
     "output_type": "stream",
     "text": [
      "0.00499999999999984\n",
      "0.0004005012288064835\n",
      "And now the error in the product...\n",
      "0.0016218672992371526\n"
     ]
    }
   ],
   "source": [
    "Q3 = Q + 1e-4\n",
    "R3 = R + 1e-4\n",
    "print(norm(Q-Q3, 2))\n",
    "print(norm(R-R3, 2)/norm(R, 2))\n",
    "\n",
    "print('And now the error in the product...')\n",
    "A3 = Q3@R3\n",
    "print(norm(A - A3, 2)/norm(A, 2))"
   ]
  },
  {
   "cell_type": "markdown",
   "metadata": {},
   "source": [
    "The above shows essentially what we expected to see. Why is this not true for $Q_2$ and $R_2$? Somehow the `qr()` function has given us inaccurate matrices $Q_2$ and $R_2$ that still contain, figuratively speaking, the essence of the matrix $A$."
   ]
  },
  {
   "cell_type": "markdown",
   "metadata": {},
   "source": [
    "# Solving nonsingular linear systems\n",
    "What happens if we try to solve a linear system?"
   ]
  },
  {
   "cell_type": "code",
   "execution_count": 7,
   "metadata": {},
   "outputs": [],
   "source": [
    "def backward_substitution(U, b):\n",
    "    \"\"\"Upper triangular matrix `U` and right hand side vector `b`. \n",
    "    Note that `U` must be square and `U` & `b` must have compatable shape.\"\"\"\n",
    "    b = array(b)\n",
    "    assert b.size > 1\n",
    "    assert b.ndim == 1 or b.ndim == 2\n",
    "    n = b.size\n",
    "    assert all(diag(U) != 0), 'the diagonal elements of U must be nonzero'\n",
    "    assert U.ndim == 2\n",
    "    assert all(array(U.shape) == n), 'the matrix U must be square and must have same number of rows as b'\n",
    "    n = b.size\n",
    "    x = ones_like(b)\n",
    "    for k in arange(n)[::-1]: ## iterate in reverse order\n",
    "        q = 0.\n",
    "        for j in arange(k+1, n):\n",
    "            q = q + U[k, j]*x[j]\n",
    "        x[k] = (b[k] - q)/U[k, k]\n",
    "    return x"
   ]
  },
  {
   "cell_type": "code",
   "execution_count": 11,
   "metadata": {},
   "outputs": [
    {
     "name": "stdout",
     "output_type": "stream",
     "text": [
      "Relative error between y and y2:\n",
      "0.02800527702785372\n",
      "Norm of vectors b, y, and y2\n",
      "7.0710678118654755 7.0710678118654755 7.071067811865475\n",
      "Normalized residual using Q and y:\n",
      "1.579094682910763e-15\n",
      "Normalized residual using Q2 and y2:\n",
      "6.246916271661717e-16\n"
     ]
    }
   ],
   "source": [
    "b = ones((n, 1))\n",
    "\n",
    "y = Q.T@b\n",
    "y2 = Q2.T@b\n",
    "\n",
    "\n",
    "print('Relative error between y and y2:')\n",
    "print(norm(y - y2, 2)/norm(y))\n",
    "\n",
    "print('Norm of vectors b, y, and y2')\n",
    "print(norm(b, 2), norm(y, 2), norm(y2, 2))\n",
    "\n",
    "print('Normalized residual using Q and y:')\n",
    "print(norm(Q@y - b, 2)/norm(y, 2))\n",
    "print('Normalized residual using Q2 and y2:')\n",
    "print(norm(Q2@y2 - b, 2)/norm(y2, 2))"
   ]
  },
  {
   "cell_type": "code",
   "execution_count": 21,
   "metadata": {},
   "outputs": [
    {
     "name": "stdout",
     "output_type": "stream",
     "text": [
      "Relative error between x and x2:\n",
      "0.8725705538547797\n",
      "Norm of vectors x and x2\n",
      "1.5870246900567085e+17 2.971815702840701e+17\n",
      "Normalized residual using R and x:\n",
      "4.1557801778787144e-18\n",
      "Normalized residual using R2 and x2:\n",
      "4.762166365967782e-18\n",
      "Condition number of R and R2\n",
      "2.65559009375992e+18 2.5523488570018954e+18\n"
     ]
    }
   ],
   "source": [
    "x = backward_substitution(R, y)\n",
    "x2 = backward_substitution(R2, y2)\n",
    "\n",
    "print('Relative error between x and x2:')\n",
    "print(norm(x - x2, 2)/norm(x))\n",
    "\n",
    "print('Norm of vectors x and x2')\n",
    "print(norm(x, 2), norm(x2, 2))\n",
    "\n",
    "print('Normalized residual using R and x:')\n",
    "print(norm(R@x - y, 2)/norm(x, 2)/norm(R, 2))\n",
    "print('Normalized residual using R2 and x2:')\n",
    "print(norm(R2@x2 - y2, 2)/norm(x2, 2)/norm(R2, 2))\n",
    "\n",
    "print('Condition number of R and R2')\n",
    "print(cond(R), cond(R2))"
   ]
  },
  {
   "cell_type": "code",
   "execution_count": 26,
   "metadata": {},
   "outputs": [
    {
     "name": "stdout",
     "output_type": "stream",
     "text": [
      "Normalized residual using A and x:\n",
      "6.596651548887683e-18\n",
      "Normalized residual using A2 and x2:\n",
      "9.788627322804369e-18\n",
      "Condition number of A and A2\n",
      "2.1807762629845178e+17 1.537995822493416e+17\n"
     ]
    }
   ],
   "source": [
    "print('Normalized residual using A and x:')\n",
    "print(norm(A@x - b, 2)/norm(x, 2)/norm(A, 2))\n",
    "print('Normalized residual using A2 and x2:')\n",
    "print(norm(A2@x2 - b, 2)/norm(x2, 2)/norm(A, 2))\n",
    "\n",
    "print('Condition number of A and A2')\n",
    "print(cond(A), cond(A2))"
   ]
  },
  {
   "cell_type": "code",
   "execution_count": null,
   "metadata": {},
   "outputs": [],
   "source": []
  }
 ],
 "metadata": {
  "kernelspec": {
   "display_name": "Python 3",
   "language": "python",
   "name": "python3"
  },
  "language_info": {
   "codemirror_mode": {
    "name": "ipython",
    "version": 3
   },
   "file_extension": ".py",
   "mimetype": "text/x-python",
   "name": "python",
   "nbconvert_exporter": "python",
   "pygments_lexer": "ipython3",
   "version": "3.7.3"
  }
 },
 "nbformat": 4,
 "nbformat_minor": 2
}
