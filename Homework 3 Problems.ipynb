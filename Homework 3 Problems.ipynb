{
 "cells": [
  {
   "cell_type": "code",
   "execution_count": 3,
   "metadata": {},
   "outputs": [
    {
     "name": "stdout",
     "output_type": "stream",
     "text": [
      "Populating the interactive namespace from numpy and matplotlib\n"
     ]
    }
   ],
   "source": [
    "%pylab inline\n",
    "%config InlineBackend.figure_format = 'retina'\n",
    "from ipywidgets import interact"
   ]
  },
  {
   "cell_type": "markdown",
   "metadata": {},
   "source": [
    "# Question 1\n",
    "Consider the approximation to the first derivative\n",
    "$$ f'(a) \\approx  \\frac{f(a+h) - f(a )}{h}.$$\n",
    "The discretization error for this formula is $O(h)$. Suppose that the absolute error in evaluating the function $f$ is bounded by machine epsilon, $\\epsilon$, with\n",
    "$$ \\vert \\hat{f}(x) - f(x) \\vert \\leq \\epsilon, $$\n",
    "where $\\hat{f}(x)$ is the floating point approximation of the exact function evaluation $f(x)$. For simplicity, let us ignore the errors generated in basic arithmetic operations.   Suppose further that there is a constant $M>0$ such that $\\vert f’’(x)\\vert \\leq M$ for all $x$.\n",
    "\n",
    "**Ignore the floating point error in approximating $h$ with a floating point value in the denominator.**\n",
    "\n",
    "## A. \n",
    "Show that the total computational error (truncation and rounding combined) is bounded by\n",
    "$$ \\frac{Mh}{2} + \\frac{2\\epsilon}{h}.$$ \n",
    "\n",
    "\n",
    "## B. \n",
    "Treat the above bound as an approximation of the absolute error. At what value of $h$ is the error estimate in part A minimized?\n",
    "\n",
    "\n",
    "## C. \n",
    "Copy and paste Example 2 in the Week 2 Python notebook into a new notebook. Plot the error estimate derived in part A (again treating the bound as an approximation) along with the empirical computational error (the numerically computed error) and the estimate of the discretization error (both of these are already plotted in the example). Is the error estimate from part A a better error estimate? Why? Plot the minimum predicted in part B. Does it agree with the minimum of the empirical error? **For the graph, use $\\epsilon = 10^{-16}$ and $M = |f''(a)|$.**"
   ]
  },
  {
   "cell_type": "code",
   "execution_count": null,
   "metadata": {},
   "outputs": [],
   "source": []
  },
  {
   "cell_type": "markdown",
   "metadata": {},
   "source": [
    "# Question 2\n",
    "Suppose we invent a new representation for finite precision real numbers based on rational numbers instead of floating point numbers. A rational number is simply the ratio of two integers, and we know how to represent integers on a computer. Rational numbers are dense on the reals, and we can approximate any real number to any desired precision with a rational number. Hence, our data structure is simply two integers, one for the numerator and one for the denominator. For this to work, our data structure must use only integers and arithmetic operations ($+,-,*$) on integers. \n",
    "\n",
    "Let $x = I_1 / I_2$ where $I_1$ and $I_2$ are 16bit integers. Assume for simplicity that $0 \\leq I_1 \\leq I_{\\rm max}$ and $0 < I_2 \\leq I_{\\rm max}$. Hence, each real number represented in finite precision with our new system uses 32bits to store in memory.\n",
    "\n",
    "## A\n",
    "There is no point in creating a data structure for finite precision real numbers if we cannot do arithmetic operations with a computer. Devise formulas to perform addition, multiplication, and division that use only arithmetic operations on integers (only `+`, `-`, `*`). Arithmetic operations should take as input two numbers in our format and return a single new number also in our format. For example, if $x_1 = I_{11}/I_{21}$ and $x_2 = I_{12}/I_{22}$, then $x_1 + x_2 = x_3$, where $x_3$ is expressed as the ratio of two integers. For each operation, you need to write $x_3$ as the ratio of two integers each of which are functions of the integers $I_{11},I_{21}, I_{12}, I_{22}$.\n",
    "\n",
    "## B\n",
    "What is $I_{max}$ for a non negative 16bit integer?\n",
    "\n",
    "## C\n",
    "What is the smallest possible nonzero value that can be represented by our numbers (remember that we are assuming they are non negative)?\n",
    "\n",
    "## D \n",
    "What is the largest possible value that can be represented by our numbers?\n",
    "\n",
    "## E\n",
    "What is the smallest (in absolute value) possible absolute difference between two numbers $x_1$ and $x_2$ such that $x_1 \\neq x_2$? \n",
    "\n",
    "## F\n",
    "What is the smallest (in absolute value) possible relative difference between two numbers $x_1$ and $x_2$ such that $x_1 \\neq x_2$? Use the following for relative difference $$\\frac{|x_1 - x_2| }{ \\max(x_1, x_2)}$$\n",
    "\n",
    "## G \n",
    "How do the above answers compare to 32bit floating point numbers? Is this a good way to represent real numbers on a computer? Why or why not?"
   ]
  },
  {
   "cell_type": "code",
   "execution_count": null,
   "metadata": {},
   "outputs": [],
   "source": []
  }
 ],
 "metadata": {
  "kernelspec": {
   "display_name": "Python 3 (ipykernel)",
   "language": "python",
   "name": "python3"
  },
  "language_info": {
   "codemirror_mode": {
    "name": "ipython",
    "version": 3
   },
   "file_extension": ".py",
   "mimetype": "text/x-python",
   "name": "python",
   "nbconvert_exporter": "python",
   "pygments_lexer": "ipython3",
   "version": "3.9.7"
  }
 },
 "nbformat": 4,
 "nbformat_minor": 2
}
