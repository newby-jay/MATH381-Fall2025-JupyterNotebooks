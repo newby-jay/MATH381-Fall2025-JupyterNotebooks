{
 "cells": [
  {
   "cell_type": "code",
   "execution_count": 1,
   "metadata": {},
   "outputs": [
    {
     "name": "stdout",
     "output_type": "stream",
     "text": [
      "Populating the interactive namespace from numpy and matplotlib\n"
     ]
    }
   ],
   "source": [
    "%pylab inline\n",
    "%config InlineBackend.figure_format = 'retina'\n",
    "from ipywidgets import interact"
   ]
  },
  {
   "cell_type": "code",
   "execution_count": 2,
   "metadata": {},
   "outputs": [],
   "source": [
    "def backward_substitution(U, b):\n",
    "    \"\"\"Upper triangular matrix `U` and right hand side vector `b`. \n",
    "    Note that `U` must be square and `U` & `b` must have compatable shape.\"\"\"\n",
    "    b = array(b)\n",
    "    assert b.size > 1\n",
    "    assert b.ndim == 1 or b.ndim == 2\n",
    "    n = b.size\n",
    "    assert all(diag(U) != 0), 'the diagonal elements of U must be nonzero'\n",
    "    assert U.ndim == 2\n",
    "    assert all(array(U.shape) == n), 'the matrix U must be square and must have same number of rows as b'\n",
    "    n = b.size\n",
    "    x = ones_like(b)\n",
    "    for k in arange(n)[::-1]: ## iterate in reverse order\n",
    "        q = 0.\n",
    "        for j in arange(k+1, n):\n",
    "            q = q + U[k, j]*x[j]\n",
    "        x[k] = (b[k] - q)/U[k, k]\n",
    "    return x\n",
    "def forward_substitution(L, b):\n",
    "    \"\"\"Lower triangular matrix `L` and right hand side vector `b`. \n",
    "    Note that `L` must be square and `L` & `b` must have compatable shape.\"\"\"\n",
    "    b = array(b)\n",
    "    assert b.size > 1\n",
    "    assert b.ndim == 1 or b.ndim == 2\n",
    "    n = b.size\n",
    "    assert all(diag(L) != 0), 'the diagonal elements of L must be nonzero'\n",
    "    assert L.ndim == 2\n",
    "    assert all(array(L.shape) == n), 'the matrix L must be square and must have same number of rows as b'\n",
    "    x = ones_like(b)\n",
    "    for k in arange(n):\n",
    "        q = 0.\n",
    "        for j in arange(k):\n",
    "            q = q + L[k, j]*x[j]\n",
    "        x[k] = (b[k] - q)/L[k, k]\n",
    "    return x"
   ]
  },
  {
   "cell_type": "markdown",
   "metadata": {},
   "source": [
    "# A test problem"
   ]
  },
  {
   "cell_type": "code",
   "execution_count": 3,
   "metadata": {},
   "outputs": [
    {
     "name": "stdout",
     "output_type": "stream",
     "text": [
      "A=\n",
      "[[-8.561 -3.29  -1.752  5.312  7.127]\n",
      " [-5.902 -8.898 -1.706  7.366 -0.768]\n",
      " [-5.717 -0.32  -5.276  1.877 -2.258]\n",
      " [ 7.993 -4.316  8.35   6.733  1.67 ]\n",
      " [ 7.258 -2.577 -2.816 -0.251  7.706]\n",
      " [ 8.241 -7.261 -6.154 -5.986 -4.072]\n",
      " [-3.134  5.429 -0.824 -4.313  5.669]\n",
      " [ 8.817 -7.468 -5.868 -8.483  5.321]\n",
      " [-7.916  1.883  8.959  1.944  8.58 ]\n",
      " [ 2.695  8.191  9.483 -2.654 -1.9  ]]\n",
      "b=\n",
      "[[1.]\n",
      " [1.]\n",
      " [1.]\n",
      " [1.]\n",
      " [1.]\n",
      " [1.]\n",
      " [1.]\n",
      " [1.]\n",
      " [1.]\n",
      " [1.]]\n"
     ]
    }
   ],
   "source": [
    "m = 10\n",
    "n = 5\n",
    "A = -10 + 20*rand(m, n)\n",
    "b = ones((m, 1))\n",
    "print('A=')\n",
    "print(around(A, 3))\n",
    "print('b=')\n",
    "print(around(b, 3))"
   ]
  },
  {
   "cell_type": "markdown",
   "metadata": {},
   "source": [
    "# LU (Cholesky) Decomposition"
   ]
  },
  {
   "cell_type": "code",
   "execution_count": 4,
   "metadata": {},
   "outputs": [
    {
     "name": "stdout",
     "output_type": "stream",
     "text": [
      "residual 1.8128686496108235\n"
     ]
    }
   ],
   "source": [
    "M = A.T@A\n",
    "L = cholesky(M) ## This returns a lower triangular matrix such that M = L@L.T\n",
    "y = forward_substitution(L, A.T@b)\n",
    "x = backward_substitution(L.T, y)\n",
    "print('residual', norm(A@x - b))"
   ]
  },
  {
   "cell_type": "markdown",
   "metadata": {},
   "source": [
    "# QR Decomposition"
   ]
  },
  {
   "cell_type": "code",
   "execution_count": 5,
   "metadata": {},
   "outputs": [
    {
     "name": "stdout",
     "output_type": "stream",
     "text": [
      "residual 1.8128686496108233\n"
     ]
    }
   ],
   "source": [
    "## If you want the full QR decomposition, use `mode='full'`\n",
    "Qhat, Rhat = qr(A, mode='reduced') \n",
    "y = Qhat.T@b\n",
    "x = backward_substitution(Rhat, y)\n",
    "print('residual', norm(A@x - b))"
   ]
  },
  {
   "cell_type": "markdown",
   "metadata": {},
   "source": [
    "# Singular Value Decomposition"
   ]
  },
  {
   "cell_type": "code",
   "execution_count": 7,
   "metadata": {},
   "outputs": [
    {
     "name": "stdout",
     "output_type": "stream",
     "text": [
      "residual 2.4526302696176145\n"
     ]
    }
   ],
   "source": [
    "## If you want the full SVD decomposition, use `full_matrices=True`\n",
    "Uhat, sigma, Vhat_T = svd(A, full_matrices=False) ## sigma is the vector of diagonal entries, not the matrix\n",
    "Vhat = Vhat_T.T\n",
    "assert b.shape == (m, 1), 'make sure b is m x 1'\n",
    "y = (1/sigma[:, None])*(Uhat.T@b) ## this is equivalent to solving Sigma_hat@y = Uhat.T@b\n",
    "x = Vhat@y\n",
    "print('residual', norm(A@x - b))"
   ]
  },
  {
   "cell_type": "code",
   "execution_count": null,
   "metadata": {},
   "outputs": [],
   "source": []
  }
 ],
 "metadata": {
  "kernelspec": {
   "display_name": "Python 3 (ipykernel)",
   "language": "python",
   "name": "python3"
  },
  "language_info": {
   "codemirror_mode": {
    "name": "ipython",
    "version": 3
   },
   "file_extension": ".py",
   "mimetype": "text/x-python",
   "name": "python",
   "nbconvert_exporter": "python",
   "pygments_lexer": "ipython3",
   "version": "3.9.7"
  }
 },
 "nbformat": 4,
 "nbformat_minor": 2
}
