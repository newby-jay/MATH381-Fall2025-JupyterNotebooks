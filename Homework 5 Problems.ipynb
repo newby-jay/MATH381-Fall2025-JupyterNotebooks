{
 "cells": [
  {
   "cell_type": "code",
   "execution_count": null,
   "metadata": {},
   "outputs": [],
   "source": [
    "%pylab inline\n",
    "%config InlineBackend.figure_format = 'retina'\n",
    "from ipywidgets import interact"
   ]
  },
  {
   "cell_type": "markdown",
   "metadata": {},
   "source": [
    "Turn in an image (e.g., screenshot) or PDF copy of any code that is part of your answer. Make sure all images and PDF pages are properly rotated. Make sure that all pages are clearly visible. \n",
    "\n",
    "Tips: Use the document scanner function on your smart phone to take better page \"scans\" using your camera. Make sure your screen is not shifted toward warmer colours (some devices filter blue light at night) giving it a dim and orange appearance. "
   ]
  },
  {
   "cell_type": "markdown",
   "metadata": {},
   "source": [
    "# Question 1\n",
    "The Lagrange interpolating polynomial is\n",
    "$$ p(x) = \\sum_{j=0}^{n}y_j L_j(x).$$\n",
    "Show that the identity ,\n",
    "$$ \\sum_{j=0}^{n} L_j(x) = 1,$$\n",
    "is true for all $x$.\n",
    "\n",
    "**Hint: The answer requires no algebra. Use the fact that $f(x) = 1$ is a polynomial of degree zero and a Lagrange polynomial.**\n",
    "\n",
    "------------------------------------------------------------------\n",
    "\n"
   ]
  },
  {
   "cell_type": "markdown",
   "metadata": {},
   "source": [
    "# Question 2\n",
    "\n",
    "## A. \n",
    "Write a function for computing the barycentric weights \n",
    "$$w_j = \\left[\\prod_{\\substack{i=0 \\\\\\\\ i\\neq j}}^{n}(x_j - x_i)\\right]^{-1}.$$\n",
    "Your function should take as input a vector containing the nodes $x_j$ and output the weights $w_j$ . Call your function `baryfit`. Write another function for evaluating the barycentric interpolant \n",
    "$p(x).$ \n",
    "This function should take as input a vector containing the nodes $x_j$, a vector containing the corresponding barycentric weights $w_j$ (generated from your `baryfit` function), a vector containing the corresponding function values $y_j = f(x_j)$, and the location (or a vector of locations) of where the interpolant should be evaluated. The output of the function should be the value of the interpolating polynomial at all the evaluation points. Call this function `baryeval`.\n",
    "\n",
    "------------------------------------------------------------------\n",
    "\n",
    "## B. \n",
    "Using your `baryfit` function from part a, generate the barycentric weights for the following two sets of nodes:\n",
    "  1. $x_j = -1 + \\frac{2j}{8}$, $j=0,1,\\ldots, 8$\n",
    "  2. $x_j = -\\cos(\\frac{j\\pi}{8})$, $j=0,1,\\ldots, 8$\n",
    "\n",
    "Plot the values of the weights versus the corresponding values of the nodes (i.e plot ($x_j$ , $w_j$ )) for each of the node sets. Comment on the results.\n",
    "\n",
    "------------------------------------------------------------------\n",
    "\n",
    "## C. \n",
    "For the two node sets from part B, use your `baryeval` function to evaluate the 8th degree polynomial interpolant of the function $f(x) = \\vert x \\vert$ at 101 equally spaced points between $[-1, 1]$. Plot the error ($p(x) − \\vert x \\vert$) in the polynomial interpolant at these evaluation points for each of the two node sets. Which node set seems to produce the best result? What criteria did you use to determine what ‘best’ means?\n",
    "\n",
    "------------------------------------------------------------------\n",
    "\n",
    "## D. \n",
    "For certain sets of nodes $x_j$, it is possible to give explicit formulas for the barycentric weights $w_j$. The easiest case is when the nodes are equally spaced between $[−1,1]$, (i.e., $x_j =−1+\\frac{2j}{n}$, $j=0,1,...,n$). Show that for these nodes\n",
    "$$w_j = \\frac{\\left(\\frac{n}{2}\\right)^n(-1)^{n-j}}{n!}\\binom{n}{j}$$\n",
    "Note that since $w_j$ appear both in the numerator and denominator of the barycentric formula for $p(x)$, any factors common to all $w_j$ can be factored out. Thus, we can reduce the above expression for the barycentric weights to $w_j =(−1)^j\\binom{n}{j}$.\n",
    "\n",
    "------------------------------------------------------------------"
   ]
  },
  {
   "cell_type": "code",
   "execution_count": null,
   "metadata": {},
   "outputs": [],
   "source": []
  },
  {
   "cell_type": "markdown",
   "metadata": {},
   "source": [
    "# Question 3\n",
    "Suppose you are given the following experimental measurements:\n",
    "\\begin{align}\n",
    "\tx_i &\\qquad f(x_i) \\\\\\\\\n",
    "\t0.08 &\\qquad 0.6739 \\\\\\\\\n",
    "\t0.46 &\\qquad 2.4306 \\\\\\\\\n",
    "\t1.00 &\\qquad 0.0000 \\\\\\\\\n",
    "\t1.51 &\\qquad -1.0621 \\\\\\\\\n",
    "\t2.05 &\\qquad 0.0986\n",
    "\\end{align}\n",
    "\n",
    "## A. \n",
    "Write a python script (using the code from Q2) that approximates $f(0.75)$ using the following Lagrange polynomials:\n",
    "\\begin{align}\n",
    "\t&\\text{$P_1$ using $x_0 = 0.46$, and $x_1 = 1.00$;} \\\\\\\\\n",
    "\t&\\text{$P_2$ using $x_0 = 0.46$, $x_1 = 1.00$, and $x_2 = 1.51$;} \\\\\\\\\n",
    "\t&\\text{$P_3$ using $x_0 = 0.08$, $x_1 = 0.46$, $x_2 = 1.00$, and $x_3 = 1.51$;} \\\\\\\\\n",
    "\t&\\text{$P_4$} \\text{ using all five points}.\n",
    "\\end{align}\n",
    "\n",
    "------------------------------------------------------------------\n",
    "\n",
    "## B. \n",
    "The information in the above table corresponds to the function\n",
    "\\begin{equation} \n",
    "f(x) = \\sin(\\pi x)e^{\\cos(x)}. \n",
    "\\end{equation}\n",
    "\n",
    "What is the absolute error of each of your approximations $P_i(0.75)$? Which Lagrange polynomial was the most accurate? Is this the result you expected?\n",
    "\n",
    "------------------------------------------------------------------"
   ]
  },
  {
   "cell_type": "code",
   "execution_count": null,
   "metadata": {},
   "outputs": [],
   "source": []
  }
 ],
 "metadata": {
  "kernelspec": {
   "display_name": "Python 3 (ipykernel)",
   "language": "python",
   "name": "python3"
  },
  "language_info": {
   "codemirror_mode": {
    "name": "ipython",
    "version": 3
   },
   "file_extension": ".py",
   "mimetype": "text/x-python",
   "name": "python",
   "nbconvert_exporter": "python",
   "pygments_lexer": "ipython3",
   "version": "3.9.7"
  }
 },
 "nbformat": 4,
 "nbformat_minor": 2
}
