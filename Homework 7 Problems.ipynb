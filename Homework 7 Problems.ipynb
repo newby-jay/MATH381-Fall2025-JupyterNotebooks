{
 "cells": [
  {
   "cell_type": "code",
   "execution_count": 9,
   "metadata": {},
   "outputs": [
    {
     "name": "stdout",
     "output_type": "stream",
     "text": [
      "Populating the interactive namespace from numpy and matplotlib\n"
     ]
    }
   ],
   "source": [
    "%pylab inline\n",
    "%config InlineBackend.figure_format = 'retina'\n",
    "from ipywidgets import interact"
   ]
  },
  {
   "cell_type": "markdown",
   "metadata": {},
   "source": [
    "Turn in an image (e.g., screenshot) or PDF copy of any code that is part of your answer. Make sure all images and PDF pages are properly rotated. Make sure that all pages are clearly visible. \n",
    "\n",
    "Tips: Use the document scanner function on your smart phone to take better page \"scans\" using your camera. Make sure your screen is not shifted toward warmer colours (some devices filter blue light at night) giving it a dim and orange appearance. "
   ]
  },
  {
   "cell_type": "markdown",
   "metadata": {},
   "source": [
    "# Q1\n",
    "Let $Q$ be an orthogonal $m \\times m$ matrix and $\\hat{R}$ be an $n\\times n$ upper triangular matrix, $m>n$, such that \n",
    "$$A = Q\n",
    "\\begin{bmatrix}\n",
    "\\hat{R} \\\\ \\mathbf{0}\n",
    "\\end{bmatrix}\n",
    "$$\n",
    "\n",
    "## A\n",
    "Show that if the diagonal elements of $\\hat{R}$ all nonzero then $A$ is full rank.\n",
    "\n",
    "## B\n",
    "Show that if $A$ is full rank then the diagonal elements of $\\hat{R}$ all nonzero.\n",
    "\n",
    "## C\n",
    "Let $\\hat{Q}$ be $m\\times n$ with orthonormal columns (so that $\\hat{Q}^T\\hat{Q} = I$ but $\\hat{Q}$ is not invertible) such that \n",
    "$$ A = \\hat{Q}\\hat{R} .$$\n",
    "Repeat part A and B for the above reduced QR decomposition."
   ]
  },
  {
   "cell_type": "markdown",
   "metadata": {},
   "source": [
    "# Q2\n",
    "Let $A\\in \\mathbb{R}^{m\\times n}$ ($m>n$) be full rank. Let the SVD decomposition of $A$ be written as\n",
    "$$ A =  \n",
    "\\begin{bmatrix}\n",
    "\\hat{U} & U_0\n",
    "\\end{bmatrix}\n",
    "\\begin{bmatrix}\n",
    "\\hat{\\Sigma} \\\\ \\mathbf{0}\n",
    "\\end{bmatrix}\n",
    "V^T,\n",
    "$$\n",
    "where $\\hat{U}$ is $m\\times n$, $U_0$ is $m\\times(m-n)$, $\\hat{\\Sigma}$ is $n\\times n$, and $V$ is $n\\times n$. Use the above SVD to derive a formula for the pseudo inverse of $A$ in terms of $\\hat{U}$, $\\hat{\\Sigma}$, and $V$."
   ]
  },
  {
   "cell_type": "markdown",
   "metadata": {},
   "source": [
    "# Q3\n",
    "Take $m=50$, $n=12$. Use the function `linspace` to produce an array $t$ of $m$ equally spaced points between on $[0, 1]$. Using two loops (or whatever method you like), produce the $m \\times n$ matrix\n",
    "$$ A =\n",
    "\\begin{bmatrix}\n",
    "1 & t_1 & t_1^2 & \\cdots & t_1^{n-1} \\\\\n",
    "1 & t_2 & t_2^2 & \\cdots & t_2^{n-1} \\\\\n",
    "\\vdots & \\vdots & \\vdots & & \\vdots \\\\\n",
    "1 & t_m & t_m^2 & \\cdots & t_m^{n-1}\n",
    "\\end{bmatrix}.\n",
    "$$\n",
    "Produce an array $b = \\cos(4t)$ which has $m$ elements just like $t$. This can be done with the command `b = cos(4*t)`. Calculate the least squares solution $x$ to the equation $Ax = b$ using three different methods:\n",
    "\n",
    "  1. The normal equations using the function `cholesky`\n",
    "  2. The QR decomposition using the function `qr`\n",
    "  3. The SVD decomposition using the function `svd`\n",
    "  \n",
    "You may want to look at the help documentation for each of these functions (e.g., by using the command `help(cholesky)`). You will also want to use examples from the Week 9 Jupyter notebook, where you will find two functions: `backward_substitution` and `forward_substitution`. Copy these two functions into your homework notebook and use them to solve upper and lower triangular systems. \n",
    "\n",
    "These calculations above will produce three lists of twelve coefficients. In each list, shade with red pen the digits that appear to be wrong (affected by rounding error). Comment on what differences you observe. Do the normal equations exhibit instability? \n",
    "\n",
    "**Hint: $A$ is a Vandermonde matrix. When we were studying polynomial interpolation, I told you that we don't like working with this matrix directly. This is because it is ill-conditioned. You should be able to say exactly what that means now. What is the condition number of $A$? Is there a command to compute it in Python? What do we know about the stability of the three algorithms?**"
   ]
  },
  {
   "cell_type": "code",
   "execution_count": null,
   "metadata": {},
   "outputs": [],
   "source": []
  }
 ],
 "metadata": {
  "kernelspec": {
   "display_name": "Python 3",
   "language": "python",
   "name": "python3"
  },
  "language_info": {
   "codemirror_mode": {
    "name": "ipython",
    "version": 3
   },
   "file_extension": ".py",
   "mimetype": "text/x-python",
   "name": "python",
   "nbconvert_exporter": "python",
   "pygments_lexer": "ipython3",
   "version": "3.7.11"
  }
 },
 "nbformat": 4,
 "nbformat_minor": 2
}
