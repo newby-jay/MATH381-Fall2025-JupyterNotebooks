{
 "cells": [
  {
   "cell_type": "code",
   "execution_count": null,
   "metadata": {},
   "outputs": [],
   "source": [
    "%pylab inline\n",
    "%config InlineBackend.figure_format = 'retina'\n",
    "from ipywidgets import interact"
   ]
  },
  {
   "cell_type": "markdown",
   "metadata": {},
   "source": [
    "Turn in an image (e.g., screenshot) or PDF copy of any code that is part of your answer. Make sure all images and PDF pages are properly rotated. Make sure that all pages are clearly visible. \n",
    "\n",
    "Tips: Use the document scanner function on your smart phone to take better page \"scans\" using your camera. Make sure your screen is not shifted toward warmer colours (some devices filter blue light at night) giving it a dim and orange appearance. "
   ]
  },
  {
   "cell_type": "markdown",
   "metadata": {},
   "source": [
    "# Question 1\n",
    "# A\n",
    "Consider the function $f(x)=x^3 -9x^2 +11x-11$, which has a root in the interval $(-10,10)$. Calculate by hand the first 3 iterations of Newton's method to estimate the root of $f(x)$, using the initial guess $x_0=0$. What happens? \n",
    "\n",
    "# B\n",
    "Write a python code that uses bisection to determine a better choice of $x_0$, then feed this new initial guess to a Newton's method solver. Iterate your Newton's method solver until you have found the root of $f(x)$ to within a tolerance of $\\epsilon=10^{-6}$, and report the value of the root."
   ]
  },
  {
   "cell_type": "code",
   "execution_count": null,
   "metadata": {},
   "outputs": [],
   "source": []
  },
  {
   "cell_type": "markdown",
   "metadata": {},
   "source": [
    "# Question 2\n",
    "# A\n",
    "Derive a third order method for solving $f(x) = 0$ in a way similar to the derivation of Newton’s method, using evaluations of $f(x_n)$, $f’(x_n)$, and $f’’(x_n)$. Show that in the course of derivation, a quadratic equation arises, and therefore two distinct schemes can be derived. **Hint: Expand $f(x)$ around $x_n$.**\n",
    "\n",
    "\n",
    "\n",
    "# B \n",
    "Show that the order of convergence (under appropriate conditions) is cubic.\n",
    "\n",
    "\n",
    "# C \n",
    "Implement the root-finding method in Python to compute the root of $f(x) = x^3 - 2$. Add a stopping criterion that requires $\\vert f(x_n) \\vert \\leq 10^{-8}$. Save the value of $x_n$ at each iteration and create a plot showing the convergence rate."
   ]
  },
  {
   "cell_type": "code",
   "execution_count": null,
   "metadata": {},
   "outputs": [],
   "source": []
  },
  {
   "cell_type": "markdown",
   "metadata": {},
   "source": [
    "# Question 3\n",
    "Consider the function\n",
    "$$ g(x) = \\tan^{-1}(x) - x, $$\n",
    "which has a single root $\\hat{x}=0$.\n",
    "\n",
    "# A\n",
    "Use Newton's method to solve for the root using the initial guess $x_0 = 0.1$. How many iterations are required before the solution ceases to change? What is the absolute error once the iteration converges? Note that the Python function for $\\tan^{-1}(x)$ is `arctan()`.\n",
    "\n",
    "# B\n",
    "You should notice that the absolute error found in part A is approximately $10^{-8}$, which means that the solution has roughly 8 digits of accuracy. This is half the number of digits of accuracy that we should expect using `float64` numbers. The reason is that $g'(0) = 0$. In addition to causing Newton's method to converge linearly, a repeated root makes the method more sensitive to rounding error.\n",
    "\n",
    "Let us model the effect of rounding error for a typical case of root finding (where we do **not** have a repeated root like in part A). Suppose that due to rounding error, we are solving the perturbed problem \n",
    "$$ f(x) - \\epsilon = 0 ,$$\n",
    "where $\\epsilon = 10^{-16}$ and represents machine epsilon for `float64` numbers. For simplicity, assume that there is a single root of the function $f$ at $\\hat{x}=0$. Compute a Taylor series expansion of $f(x)$ around $x=0$ and assume that $f'(0) \\neq 0$. Using the Taylor series expansion of $f$, derive an approximation to the solution to $f(x) - \\epsilon = 0$. *Hint: your solution should be of the form $\\hat{x}(\\epsilon) = C\\epsilon + O(\\epsilon^2)$. You need to determine the constant $C$.*\n",
    "\n",
    "\n",
    "# C [Extra Credit]\n",
    "Repeat part B, but now assume that $f'(0) = 0$ and $f''(0) \\neq 0$. *Hint: your solution should be of the form $\\hat{x}(\\epsilon) = M\\epsilon^{1/2} + O(\\epsilon)$.*\n"
   ]
  },
  {
   "cell_type": "code",
   "execution_count": null,
   "metadata": {},
   "outputs": [],
   "source": []
  }
 ],
 "metadata": {
  "kernelspec": {
   "display_name": "Python 3 (ipykernel)",
   "language": "python",
   "name": "python3"
  },
  "language_info": {
   "codemirror_mode": {
    "name": "ipython",
    "version": 3
   },
   "file_extension": ".py",
   "mimetype": "text/x-python",
   "name": "python",
   "nbconvert_exporter": "python",
   "pygments_lexer": "ipython3",
   "version": "3.9.7"
  }
 },
 "nbformat": 4,
 "nbformat_minor": 2
}
