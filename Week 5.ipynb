{
 "cells": [
  {
   "cell_type": "code",
   "execution_count": 1,
   "metadata": {},
   "outputs": [
    {
     "name": "stdout",
     "output_type": "stream",
     "text": [
      "Populating the interactive namespace from numpy and matplotlib\n"
     ]
    }
   ],
   "source": [
    "%pylab inline\n",
    "%config InlineBackend.figure_format = 'retina'\n",
    "from ipywidgets import interact"
   ]
  },
  {
   "cell_type": "markdown",
   "metadata": {},
   "source": [
    "# Example: Building a matrix\n",
    "Suppose we want to build a matrix $A$ with elements $a_{0j}=10$ and $a_{ij} = (-1)^{i+j}$ for $j=1,\\cdots, n$.\n",
    "\n",
    "The easiest way to get started with building arrays is to use loops and set each element one at a time."
   ]
  },
  {
   "cell_type": "code",
   "execution_count": 2,
   "metadata": {},
   "outputs": [
    {
     "name": "stdout",
     "output_type": "stream",
     "text": [
      "initialization of the array to zeros\n",
      "[[0. 0. 0. 0.]\n",
      " [0. 0. 0. 0.]\n",
      " [0. 0. 0. 0.]\n",
      " [0. 0. 0. 0.]]\n",
      "matrix with the wrong first row\n",
      "[[ 1. -1.  1. -1.]\n",
      " [-1.  1. -1.  1.]\n",
      " [ 1. -1.  1. -1.]\n",
      " [-1.  1. -1.  1.]]\n",
      "print just the first row\n",
      "[ 1. -1.  1. -1.]\n",
      "the full matrix with correct 1st row\n",
      "[[10. 10. 10. 10.]\n",
      " [-1.  1. -1.  1.]\n",
      " [ 1. -1.  1. -1.]\n",
      " [-1.  1. -1.  1.]]\n"
     ]
    }
   ],
   "source": [
    "## We start by building a 2D array\n",
    "n = 3\n",
    "\n",
    "\n",
    "A = zeros((n+1, n+1)) ## this creates a array with (n+1)x(n+1) values, all set to zero\n",
    "print('initialization of the array to zeros')\n",
    "print(A)\n",
    "for i in arange(n+1):\n",
    "    for j in arange(n+1):\n",
    "        A[i, j] = (-1.)**(i + j) \n",
    "print('matrix with the wrong first row')\n",
    "print(A)\n",
    "\n",
    "## Change the first row to the value 10\n",
    "print('print just the first row')\n",
    "print(A[0, :]) # the ':' is a wildcard for the full row (this is 'slicing' see below)\n",
    "A[0, :] = 10.\n",
    "\n",
    "print('the full matrix with correct 1st row')\n",
    "print(A)"
   ]
  },
  {
   "cell_type": "markdown",
   "metadata": {},
   "source": [
    "Just as we can use square brackets to access individual array elements, we can also use them to access subarrays with the *slice* notation, marked by the colon (``:``) character.\n",
    "The NumPy slicing syntax follows that of the standard Python list; to access a slice of an array ``x``, use this:\n",
    "``` python\n",
    "x[start:stop:step]\n",
    "```\n",
    "If any of these are unspecified, they default to the values ``start=0``, ``stop=``*``size of dimension``*, ``step=1``."
   ]
  },
  {
   "cell_type": "code",
   "execution_count": 3,
   "metadata": {},
   "outputs": [
    {
     "name": "stdout",
     "output_type": "stream",
     "text": [
      "first column\n",
      "[10. -1.  1. -1.]\n",
      "first 3 columns\n",
      "[[10. 10. 10.]\n",
      " [-1.  1. -1.]\n",
      " [ 1. -1.  1.]\n",
      " [-1.  1. -1.]]\n",
      "1st and 2nd row\n",
      "[[10. 10. 10. 10.]\n",
      " [-1.  1. -1.  1.]]\n",
      "3rd and 4th row\n",
      "[[ 1. -1.  1. -1.]\n",
      " [-1.  1. -1.  1.]]\n",
      "skipping every other element\n",
      "[10. 10.]\n",
      "[1. 1.]\n",
      "[-1. -1.]\n"
     ]
    }
   ],
   "source": [
    "print('first column')\n",
    "print(A[:, 0]) ## first column \n",
    "\n",
    "print('first 3 columns')\n",
    "print(A[:, :3]) \n",
    "#print(A[:, 0:3]) ## same thing\n",
    "\n",
    "print('1st and 2nd row')\n",
    "print(A[:2, :]) \n",
    "#print(A[0:2, :]) ## same thing\n",
    "\n",
    "print('3rd and 4th row')\n",
    "print(A[2:4, :])\n",
    "\n",
    "print('skipping every other element')\n",
    "print(A[0, 1::2])  # every other element, starting at index 1\n",
    "print(A[1, 1::2])\n",
    "print(A[1, 0::2])"
   ]
  },
  {
   "cell_type": "markdown",
   "metadata": {},
   "source": [
    "## Setting the diagonal elements of an array\n",
    "The identity matrix can be constructed with the `eye` function, but here is a way to do it using loops."
   ]
  },
  {
   "cell_type": "code",
   "execution_count": 4,
   "metadata": {},
   "outputs": [
    {
     "name": "stdout",
     "output_type": "stream",
     "text": [
      "initialize to all zeros\n",
      "[[0. 0. 0. 0.]\n",
      " [0. 0. 0. 0.]\n",
      " [0. 0. 0. 0.]\n",
      " [0. 0. 0. 0.]]\n",
      "finished identity matrix\n",
      "[[1. 0. 0. 0.]\n",
      " [0. 1. 0. 0.]\n",
      " [0. 0. 1. 0.]\n",
      " [0. 0. 0. 1.]]\n",
      "try out matrix-matrix multiplication\n",
      "[[10. 10. 10. 10.]\n",
      " [-1.  1. -1.  1.]\n",
      " [ 1. -1.  1. -1.]\n",
      " [-1.  1. -1.  1.]]\n",
      "very different result with default multiplication\n",
      "[[10.  0.  0.  0.]\n",
      " [-0.  1. -0.  0.]\n",
      " [ 0. -0.  1. -0.]\n",
      " [-0.  0. -0.  1.]]\n"
     ]
    }
   ],
   "source": [
    "B = zeros((n+1, n+1))\n",
    "print('initialize to all zeros')\n",
    "print(B)\n",
    "for i in arange(n+1):\n",
    "    B[i, i] = 1. ## you can use this method to set the diagonal elements to any values!\n",
    "print('finished identity matrix')\n",
    "print(B)\n",
    "\n",
    "print('try out matrix-matrix multiplication')\n",
    "print(B@A)\n",
    "print('very different result with default multiplication')\n",
    "print(B*A)"
   ]
  },
  {
   "cell_type": "markdown",
   "metadata": {},
   "source": [
    "# Example: solving a linear system of equations"
   ]
  },
  {
   "cell_type": "code",
   "execution_count": 5,
   "metadata": {},
   "outputs": [
    {
     "name": "stdout",
     "output_type": "stream",
     "text": [
      "[ 0.85856045  2.29893019 -0.06976096 -1.01516677 -0.51408726]\n"
     ]
    }
   ],
   "source": [
    "A = rand(5, 5) ## a 5 x 5 array with random values in [0, 1]\n",
    "b = ones(5)  ## vector filled one values of one\n",
    "x = solve(A, b) ## the Python function for solving linear systems\n",
    "                \n",
    "print(x)"
   ]
  },
  {
   "cell_type": "markdown",
   "metadata": {},
   "source": [
    "# Example: Roots of Lagrange polynomials\n",
    "Let $p_j = p(x_j)$ for nodes $x_j$ and let $w_j$ be the barycentric weights.  Define the matrices\n",
    "    $$ A =\n",
    "    \\begin{bmatrix}\n",
    "      0 & -p^T \\\\\n",
    "      w & X\n",
    "    \\end{bmatrix}\n",
    "    , \\quad\n",
    "    X_{ij} =\n",
    "    \\begin{cases}\n",
    "      0, & i \\neq j \\\\\n",
    "      x_i & i = j\n",
    "    \\end{cases}\n",
    "    $$\n",
    "    $$\n",
    "    B =\n",
    "    \\begin{bmatrix}\n",
    "      0 &  \\\\\n",
    "       & I\n",
    "    \\end{bmatrix}\n",
    "    $$\n",
    "    The roots $\\hat{x}$ of the polynomial $p(x)$ are the generalized eigenvectors of the characteristic equation $\\det(\\hat{x} B - A) = 0$."
   ]
  },
  {
   "cell_type": "code",
   "execution_count": 6,
   "metadata": {},
   "outputs": [
    {
     "data": {
      "image/png": "[encoded data removed]",
      "text/plain": [
       "<Figure size 504x288 with 1 Axes>"
      ]
     },
     "metadata": {
      "image/png": {
       "height": 277,
       "width": 471
      },
      "needs_background": "light"
     },
     "output_type": "display_data"
    }
   ],
   "source": [
    "import scipy.linalg\n",
    "def baryfit_chebyshev(n):\n",
    "    j = arange(n+1)\n",
    "    w = (-1.)**j\n",
    "    w[0] = w[0]*0.5\n",
    "    w[-1] = w[-1]*0.5\n",
    "    return w\n",
    "def chebyshev_nodes(a, b, n):\n",
    "    j = arange(n+1)\n",
    "    return (a + b)/2 - (b - a)/2*cos(j*pi/n)\n",
    "def baryeval(x, xnodes, ynodes, weights):\n",
    "    n = xnodes.size - 1\n",
    "    m = x.size\n",
    "    numerator = zeros(m)\n",
    "    denominator = zeros(m)\n",
    "    for k in arange(m): ## loop over each evaluation point in `x`\n",
    "        for j in arange(n+1): # j = 0, 1, ..., n\n",
    "            if x[k] == xnodes[j]: # check if x = x_j\n",
    "                numerator[k] = ynodes[j] ## p(x_j) = y_j\n",
    "                denominator[k] = 1.\n",
    "                break ## this will end the inner-most loop (skip to the next value of k)\n",
    "            numerator[k] = numerator[k] + ynodes[j]*weights[j]/(x[k] - xnodes[j])\n",
    "            denominator[k] = denominator[k] + weights[j]/(x[k] - xnodes[j])\n",
    "    p_of_x = numerator/denominator\n",
    "    return p_of_x\n",
    "\n",
    "\n",
    "n = 50\n",
    "a = 0\n",
    "b = 6*pi\n",
    "\n",
    "weights = baryfit_chebyshev(n)\n",
    "xnodes = chebyshev_nodes(a, b, n)\n",
    "ynodes = sin(xnodes) + 0.5\n",
    "\n",
    "xeval = linspace(a, b, 301)\n",
    "yeval = baryeval(xeval, xnodes, ynodes, weights)\n",
    "\n",
    "A = zeros((n+2, n+2))\n",
    "A[1:, 0] = weights\n",
    "A[0, 1:] = -ynodes\n",
    "for i in arange(1, n+2):\n",
    "    A[i, i] = xnodes[i-1]\n",
    "    \n",
    "B = eye(n+2) ## builds the identity matrix\n",
    "B[0, 0] = 0\n",
    "\n",
    "L, _ = scipy.linalg.eig(A, b=B)  ## computes the generalized eigenvalues\n",
    "\n",
    "## Next we filter out everything but the roots we need: finite, real, in [a, b]\n",
    "logical_is_finite = isfinite(L) ## there is a special function to check for finite vals\n",
    "L_finite = L[logical_is_finite] ## we use logical indexing\n",
    "logical_imaginary_part_is_zero = absolute(L_finite.imag) <= 1e-14\n",
    "L_isreal = L_finite.real[logical_imaginary_part_is_zero]\n",
    "logical_is_in_a_to_b = (L_isreal >= a - 1e-13) & (L_isreal <= b + 1e-13)\n",
    "xroots = L_isreal[logical_is_in_a_to_b]\n",
    "\n",
    "figure(1, [7, 4])\n",
    "plot(xeval, yeval)\n",
    "plot(xroots, 0*xroots, 'ko')\n",
    "xlabel(r'$x$', fontsize=24)\n",
    "ylabel(r'$y$', fontsize=24);"
   ]
  }
 ],
 "metadata": {
  "kernelspec": {
   "display_name": "Python 3",
   "language": "python",
   "name": "python3"
  },
  "language_info": {
   "codemirror_mode": {
    "name": "ipython",
    "version": 3
   },
   "file_extension": ".py",
   "mimetype": "text/x-python",
   "name": "python",
   "nbconvert_exporter": "python",
   "pygments_lexer": "ipython3",
   "version": "3.7.3"
  }
 },
 "nbformat": 4,
 "nbformat_minor": 2
}
